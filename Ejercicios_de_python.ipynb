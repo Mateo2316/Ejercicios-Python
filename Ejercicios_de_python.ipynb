{
  "nbformat": 4,
  "nbformat_minor": 0,
  "metadata": {
    "colab": {
      "provenance": [],
      "collapsed_sections": [
        "avs8_qPweuPB",
        "Ta5KJyBOeSwQ",
        "K4A_05lVe0uQ",
        "fhoOz6xtEDTd",
        "WVZg6TDyIDVn",
        "NV0BJ8hfLFZ1",
        "olfocOMgg1Ju"
      ],
      "authorship_tag": "ABX9TyPUBQQm+y+3L+1OgGicx8EB",
      "include_colab_link": true
    },
    "kernelspec": {
      "name": "python3",
      "display_name": "Python 3"
    },
    "language_info": {
      "name": "python"
    }
  },
  "cells": [
    {
      "cell_type": "markdown",
      "metadata": {
        "id": "view-in-github",
        "colab_type": "text"
      },
      "source": [
        "<a href=\"https://colab.research.google.com/github/Mateo2316/Ejercicios-Python/blob/main/Ejercicios_de_python.ipynb\" target=\"_parent\"><img src=\"https://colab.research.google.com/assets/colab-badge.svg\" alt=\"Open In Colab\"/></a>"
      ]
    },
    {
      "cell_type": "markdown",
      "source": [
        "# 🔍 **Problema 1: Análisis de registros de sensores climáticos (Estructuras de datos, Comprehensions, Archivos, Excepciones)**\n",
        "\n"
      ],
      "metadata": {
        "id": "avs8_qPweuPB"
      }
    },
    {
      "cell_type": "markdown",
      "source": [
        "**Descripción:**\n",
        "\n",
        "Se te entrega un archivo .csv con registros diarios de sensores climáticos que contienen: fecha, temperatura, humedad, velocidad_viento. Tu tarea es crear un script que:\n",
        "\n",
        "1. Lea el archivo línea por línea y almacene los datos en una estructura de diccionarios anidados.\n",
        "\n",
        "2. Use list/dict comprehensions para:\n",
        "\n",
        "  * Obtener todas las fechas donde la temperatura fue superior a 30°C.\n",
        "\n",
        "  * Calcular el promedio de humedad por cada semana.\n",
        "\n",
        "3. Maneje posibles errores con try, except, else, finally (por ejemplo, errores de lectura o valores faltantes).\n",
        "\n",
        "4. Exporte los datos procesados a un nuevo archivo .txt."
      ],
      "metadata": {
        "id": "DevSX7g-ezfy"
      }
    },
    {
      "cell_type": "markdown",
      "source": [
        "## **1. Lea el archivo línea por línea y almacene los datos en una estructura de diccionarios anidados.**"
      ],
      "metadata": {
        "id": "b4PGFXjOIbaG"
      }
    },
    {
      "cell_type": "code",
      "source": [
        "import json\n",
        "\n",
        "columns = []\n",
        "\n",
        "climaticData = {}\n",
        "\n",
        "try:\n",
        "\n",
        "  with open(\"datos_climaticos.csv\", \"r\") as document:\n",
        "\n",
        "    for number, line in enumerate(document):\n",
        "\n",
        "      if number == 0:\n",
        "\n",
        "        columns = line.strip().split(\",\")[1:]\n",
        "\n",
        "        continue\n",
        "\n",
        "      data = line.strip().split(\",\")\n",
        "\n",
        "      climaticData[data[0]] = {columns[0] : float(data[1]), columns[1] : int(data[2]), columns[2] : int(data[3])}\n",
        "\n",
        "    print(\"climaticData: \", json.dumps(climaticData, indent=4))\n",
        "\n",
        "except Exception as ex:\n",
        "\n",
        "  print(\"Error: \", ex)"
      ],
      "metadata": {
        "colab": {
          "base_uri": "https://localhost:8080/"
        },
        "collapsed": true,
        "id": "k16RIuyxIYmT",
        "outputId": "10576fd3-016f-4bd5-d51c-f340678e4eb4"
      },
      "execution_count": null,
      "outputs": [
        {
          "output_type": "stream",
          "name": "stdout",
          "text": [
            "climaticData:  {\n",
            "    \"2025-05-01\": {\n",
            "        \"temperatura\": 28.3,\n",
            "        \"humedad\": 68,\n",
            "        \"velocidad_viento\": 12\n",
            "    },\n",
            "    \"2025-05-02\": {\n",
            "        \"temperatura\": 30.5,\n",
            "        \"humedad\": 70,\n",
            "        \"velocidad_viento\": 15\n",
            "    },\n",
            "    \"2025-05-03\": {\n",
            "        \"temperatura\": 31.1,\n",
            "        \"humedad\": 65,\n",
            "        \"velocidad_viento\": 14\n",
            "    },\n",
            "    \"2025-05-04\": {\n",
            "        \"temperatura\": 29.8,\n",
            "        \"humedad\": 72,\n",
            "        \"velocidad_viento\": 10\n",
            "    },\n",
            "    \"2025-05-05\": {\n",
            "        \"temperatura\": 33.2,\n",
            "        \"humedad\": 60,\n",
            "        \"velocidad_viento\": 11\n",
            "    },\n",
            "    \"2025-05-06\": {\n",
            "        \"temperatura\": 27.5,\n",
            "        \"humedad\": 66,\n",
            "        \"velocidad_viento\": 9\n",
            "    },\n",
            "    \"2025-05-07\": {\n",
            "        \"temperatura\": 32.0,\n",
            "        \"humedad\": 64,\n",
            "        \"velocidad_viento\": 13\n",
            "    },\n",
            "    \"2025-05-08\": {\n",
            "        \"temperatura\": 30.1,\n",
            "        \"humedad\": 69,\n",
            "        \"velocidad_viento\": 12\n",
            "    },\n",
            "    \"2025-05-09\": {\n",
            "        \"temperatura\": 28.6,\n",
            "        \"humedad\": 75,\n",
            "        \"velocidad_viento\": 10\n",
            "    },\n",
            "    \"2025-05-10\": {\n",
            "        \"temperatura\": 26.8,\n",
            "        \"humedad\": 78,\n",
            "        \"velocidad_viento\": 8\n",
            "    },\n",
            "    \"2025-05-11\": {\n",
            "        \"temperatura\": 29.3,\n",
            "        \"humedad\": 71,\n",
            "        \"velocidad_viento\": 11\n",
            "    },\n",
            "    \"2025-05-12\": {\n",
            "        \"temperatura\": 31.5,\n",
            "        \"humedad\": 67,\n",
            "        \"velocidad_viento\": 14\n",
            "    },\n",
            "    \"2025-05-13\": {\n",
            "        \"temperatura\": 32.8,\n",
            "        \"humedad\": 65,\n",
            "        \"velocidad_viento\": 13\n",
            "    },\n",
            "    \"2025-05-14\": {\n",
            "        \"temperatura\": 34.0,\n",
            "        \"humedad\": 59,\n",
            "        \"velocidad_viento\": 12\n",
            "    },\n",
            "    \"2025-05-15\": {\n",
            "        \"temperatura\": 33.7,\n",
            "        \"humedad\": 61,\n",
            "        \"velocidad_viento\": 11\n",
            "    },\n",
            "    \"2025-05-16\": {\n",
            "        \"temperatura\": 29.9,\n",
            "        \"humedad\": 70,\n",
            "        \"velocidad_viento\": 10\n",
            "    },\n",
            "    \"2025-05-17\": {\n",
            "        \"temperatura\": 27.6,\n",
            "        \"humedad\": 74,\n",
            "        \"velocidad_viento\": 9\n",
            "    },\n",
            "    \"2025-05-18\": {\n",
            "        \"temperatura\": 28.1,\n",
            "        \"humedad\": 77,\n",
            "        \"velocidad_viento\": 8\n",
            "    },\n",
            "    \"2025-05-19\": {\n",
            "        \"temperatura\": 26.5,\n",
            "        \"humedad\": 80,\n",
            "        \"velocidad_viento\": 7\n",
            "    },\n",
            "    \"2025-05-20\": {\n",
            "        \"temperatura\": 25.3,\n",
            "        \"humedad\": 82,\n",
            "        \"velocidad_viento\": 6\n",
            "    },\n",
            "    \"2025-05-21\": {\n",
            "        \"temperatura\": 30.6,\n",
            "        \"humedad\": 66,\n",
            "        \"velocidad_viento\": 13\n",
            "    },\n",
            "    \"2025-05-22\": {\n",
            "        \"temperatura\": 31.9,\n",
            "        \"humedad\": 63,\n",
            "        \"velocidad_viento\": 14\n",
            "    },\n",
            "    \"2025-05-23\": {\n",
            "        \"temperatura\": 32.5,\n",
            "        \"humedad\": 61,\n",
            "        \"velocidad_viento\": 13\n",
            "    },\n",
            "    \"2025-05-24\": {\n",
            "        \"temperatura\": 33.0,\n",
            "        \"humedad\": 60,\n",
            "        \"velocidad_viento\": 12\n",
            "    },\n",
            "    \"2025-05-25\": {\n",
            "        \"temperatura\": 28.9,\n",
            "        \"humedad\": 74,\n",
            "        \"velocidad_viento\": 10\n",
            "    },\n",
            "    \"2025-05-26\": {\n",
            "        \"temperatura\": 27.2,\n",
            "        \"humedad\": 76,\n",
            "        \"velocidad_viento\": 9\n",
            "    },\n",
            "    \"2025-05-27\": {\n",
            "        \"temperatura\": 26.1,\n",
            "        \"humedad\": 79,\n",
            "        \"velocidad_viento\": 8\n",
            "    },\n",
            "    \"2025-05-28\": {\n",
            "        \"temperatura\": 29.7,\n",
            "        \"humedad\": 70,\n",
            "        \"velocidad_viento\": 10\n",
            "    },\n",
            "    \"2025-05-29\": {\n",
            "        \"temperatura\": 30.2,\n",
            "        \"humedad\": 68,\n",
            "        \"velocidad_viento\": 11\n",
            "    },\n",
            "    \"2025-05-30\": {\n",
            "        \"temperatura\": 31.0,\n",
            "        \"humedad\": 67,\n",
            "        \"velocidad_viento\": 12\n",
            "    }\n",
            "}\n"
          ]
        }
      ]
    },
    {
      "cell_type": "markdown",
      "source": [
        "## **2. Use list/dict comprehensions para:**\n",
        "\n"
      ],
      "metadata": {
        "id": "r46nwiAcSm29"
      }
    },
    {
      "cell_type": "markdown",
      "source": [
        "###**Obtener todas las fechas donde la temperatura fue superior a 30°C**"
      ],
      "metadata": {
        "id": "bzWjCNpgSto_"
      }
    },
    {
      "cell_type": "code",
      "source": [
        "dates = [key for key in climaticData if climaticData[key][\"temperatura\"] > 30]\n",
        "\n",
        "print(\"dates: \", dates)"
      ],
      "metadata": {
        "colab": {
          "base_uri": "https://localhost:8080/"
        },
        "id": "RfbpxEWPxsfs",
        "outputId": "42c685f6-7a12-473a-ce3e-d77835505109"
      },
      "execution_count": null,
      "outputs": [
        {
          "output_type": "stream",
          "name": "stdout",
          "text": [
            "dates:  ['2025-05-02', '2025-05-03', '2025-05-05', '2025-05-07', '2025-05-08', '2025-05-12', '2025-05-13', '2025-05-14', '2025-05-15', '2025-05-21', '2025-05-22', '2025-05-23', '2025-05-24', '2025-05-29', '2025-05-30']\n"
          ]
        }
      ]
    },
    {
      "cell_type": "markdown",
      "source": [
        "###**Calcular el promedio de humedad por cada semana**"
      ],
      "metadata": {
        "id": "_kpKmSvrSzTF"
      }
    },
    {
      "cell_type": "code",
      "source": [
        "humidities  = [climaticData[key][\"humedad\"] for key in climaticData]\n",
        "\n",
        "print(\"humidities: \", humidities)\n",
        "\n",
        "weeklyAverageHumidity = [sum(humidities[i:i+7])/7 for i in range(0, len(humidities), 7) if len(humidities[i:i+7]) == 7]\n",
        "\n",
        "print(\"weeklyAverageHumidity: \", weeklyAverageHumidity)"
      ],
      "metadata": {
        "colab": {
          "base_uri": "https://localhost:8080/"
        },
        "id": "okxRTG8OCiYs",
        "outputId": "ea156b04-2e6e-45ab-84c0-333187a0581a"
      },
      "execution_count": null,
      "outputs": [
        {
          "output_type": "stream",
          "name": "stdout",
          "text": [
            "humidities:  [68, 70, 65, 72, 60, 66, 64, 69, 75, 78, 71, 67, 65, 59, 61, 70, 74, 77, 80, 82, 66, 63, 61, 60, 74, 76, 79, 70, 68, 67]\n",
            "weeklyAverageHumidity:  [66.42857142857143, 69.14285714285714, 72.85714285714286, 69.0]\n"
          ]
        }
      ]
    },
    {
      "cell_type": "code",
      "source": [
        "try:\n",
        "  with open(\"climate_summary.txt\", \"w\") as document:\n",
        "    document.write(\"------------------------------\\n\")\n",
        "    document.write(\"May 2025 Climate Summary\\n\")\n",
        "    document.write(\"------------------------------\\n\")\n",
        "    document.write(\"Dates where the temperature was above 30°C:\\n\")\n",
        "\n",
        "    for date in dates:\n",
        "      document.write(f\"- {date}\\n\")\n",
        "\n",
        "    document.write(\"Weekly average humidity:\\n\")\n",
        "\n",
        "    for number, humidity in enumerate(weeklyAverageHumidity):\n",
        "      document.write(f\"- Week {number + 1}: {humidity : .2f}\\n\")\n",
        "except Exception as ex:\n",
        "  print(\"Error: \", ex)"
      ],
      "metadata": {
        "id": "0odbdKiuMdaM"
      },
      "execution_count": null,
      "outputs": []
    },
    {
      "cell_type": "markdown",
      "source": [
        "# **🧮 Problema 2: Sistema de Recomendación Simple (Funciones Lambda, map, filter, reduce, Sets, Tuplas)**"
      ],
      "metadata": {
        "id": "Ta5KJyBOeSwQ"
      }
    },
    {
      "cell_type": "markdown",
      "source": [
        "**Descripción:**\n",
        "\n",
        "Imagina que tienes un sistema que recomienda películas según las preferencias del usuario. Cada usuario tiene una tupla de géneros favoritos, y cada película tiene un diccionario con claves nombre, géneros y rating.\n",
        "\n",
        "**Tu tarea es:**\n",
        "\n",
        "1. Crear una lista de películas como diccionarios.\n",
        "\n",
        "2. Filtrar las películas que coinciden con al menos un género del usuario usando filter y sets.\n",
        "\n",
        "3. Usar map para convertir las películas filtradas en un string legible: \"Nombre (Rating)\".\n",
        "\n",
        "4. Usar reduce para obtener la película con mejor rating.\n",
        "\n",
        "5. Definir funciones lambda donde sea posible."
      ],
      "metadata": {
        "id": "OP4eND_XeN8f"
      }
    },
    {
      "cell_type": "markdown",
      "source": [
        "##**1. Crear una lista de películas como diccionarios.**"
      ],
      "metadata": {
        "id": "K4A_05lVe0uQ"
      }
    },
    {
      "cell_type": "code",
      "source": [
        "movies = [\n",
        "    {\n",
        "        \"Nombre\": \"The Shawshank Redemption\",\n",
        "        \"Géneros\": [\"Drama\", \"Crimen\"],\n",
        "        \"Rating\": 9.3\n",
        "    },\n",
        "\n",
        "    {\n",
        "        \"Nombre\": \"The Godfather\",\n",
        "        \"Géneros\": [\"Crimen\", \"Drama\"],\n",
        "        \"Rating\": 9.2\n",
        "    },\n",
        "\n",
        "    {\n",
        "        \"Nombre\": \"The Dark Knight\",\n",
        "        \"Géneros\": [\"Acción\", \"Crimen\", \"Drama\"],\n",
        "        \"Rating\": 9.0\n",
        "    },\n",
        "\n",
        "    {\n",
        "        \"Nombre\": \"Pulp Fiction\",\n",
        "        \"Géneros\": [\"Crimen\", \"Drama\"],\n",
        "        \"Rating\": 8.9\n",
        "    },\n",
        "\n",
        "    {\n",
        "        \"Nombre\": \"Schindler's List\",\n",
        "        \"Géneros\": [\"Biografía\", \"Drama\", \"Historia\"],\n",
        "        \"Rating\": 9.0\n",
        "    },\n",
        "\n",
        "    {\n",
        "        \"Nombre\": \"Forrest Gump\",\n",
        "        \"Géneros\": [\"Drama\", \"Romance\"],\n",
        "        \"Rating\": 8.8\n",
        "    },\n",
        "\n",
        "    {\n",
        "        \"Nombre\": \"Inception\",\n",
        "        \"Géneros\": [\"Acción\", \"Aventura\", \"Ciencia ficción\"],\n",
        "        \"Rating\": 8.8\n",
        "    },\n",
        "\n",
        "    {\n",
        "        \"Nombre\": \"Fight Club\",\n",
        "        \"Géneros\": [\"Drama\"],\n",
        "        \"Rating\": 8.8\n",
        "    },\n",
        "\n",
        "    {\n",
        "        \"Nombre\": \"The Matrix\",\n",
        "        \"Géneros\": [\"Acción\", \"Ciencia ficción\"],\n",
        "        \"Rating\": 8.7\n",
        "    },\n",
        "\n",
        "    {\n",
        "        \"Nombre\": \"Goodfellas\",\n",
        "        \"Géneros\": [\"Biografía\", \"Crimen\", \"Drama\"],\n",
        "        \"Rating\": 8.7\n",
        "    },\n",
        "\n",
        "    {\n",
        "        \"Nombre\": \"The Lord of the Rings: The Return of the King\",\n",
        "        \"Géneros\": [\"Aventura\", \"Drama\", \"Fantasía\"],\n",
        "        \"Rating\": 9.0\n",
        "    },\n",
        "\n",
        "    {\n",
        "        \"Nombre\": \"Interstellar\",\n",
        "        \"Géneros\": [\"Aventura\", \"Drama\", \"Ciencia ficción\"],\n",
        "        \"Rating\": 8.6\n",
        "    },\n",
        "\n",
        "    {\n",
        "        \"Nombre\": \"Parasite\",\n",
        "        \"Géneros\": [\"Drama\", \"Thriller\"],\n",
        "        \"Rating\": 8.5\n",
        "    },\n",
        "\n",
        "    {\n",
        "        \"Nombre\": \"Whiplash\",\n",
        "        \"Géneros\": [\"Drama\", \"Música\"],\n",
        "        \"Rating\": 8.5\n",
        "    },\n",
        "\n",
        "    {\n",
        "        \"Nombre\": \"The Grand Budapest Hotel\",\n",
        "        \"Géneros\": [\"Aventura\", \"Comedia\", \"Crimen\"],\n",
        "        \"Rating\": 8.1\n",
        "    }\n",
        "]"
      ],
      "metadata": {
        "id": "lncPzFUGBPYj"
      },
      "execution_count": null,
      "outputs": []
    },
    {
      "cell_type": "markdown",
      "source": [
        "##**2. Filtrar las películas que coinciden con al menos un género del usuario usando filter y sets.**"
      ],
      "metadata": {
        "id": "fhoOz6xtEDTd"
      }
    },
    {
      "cell_type": "code",
      "source": [
        "userFavoriteGenres = (\"Acción\", \"Ciencia ficción\")\n",
        "\n",
        "dataOnRecommendedMovies = filter(lambda movie : len(set(userFavoriteGenres).intersection(movie[\"Géneros\"])) > 0 , movies)"
      ],
      "metadata": {
        "id": "hVtwfjTPEFur"
      },
      "execution_count": null,
      "outputs": []
    },
    {
      "cell_type": "markdown",
      "source": [
        "##**3. Usar map para convertir las películas filtradas en un string legible: \"Nombre (Rating)\".**"
      ],
      "metadata": {
        "id": "WVZg6TDyIDVn"
      }
    },
    {
      "cell_type": "code",
      "source": [
        "recommendedMovies = map(lambda movie: f\"{movie['Nombre']} ({movie['Rating']})\", dataOnRecommendedMovies)\n",
        "\n",
        "\n",
        "print(\"recommendedMovies: \", \" -- \".join(list(recommendedMovies)))"
      ],
      "metadata": {
        "colab": {
          "base_uri": "https://localhost:8080/"
        },
        "id": "pOoLMCQTH9fj",
        "outputId": "070c1582-d4b1-49d4-f0dc-210d5b3c066c"
      },
      "execution_count": null,
      "outputs": [
        {
          "output_type": "stream",
          "name": "stdout",
          "text": [
            "recommendedMovies:  The Dark Knight (9.0) -- Inception (8.8) -- The Matrix (8.7) -- Interstellar (8.6)\n"
          ]
        }
      ]
    },
    {
      "cell_type": "markdown",
      "source": [
        "##**4. Usar reduce para obtener la película con mejor rating.**"
      ],
      "metadata": {
        "id": "NV0BJ8hfLFZ1"
      }
    },
    {
      "cell_type": "code",
      "source": [
        "from functools import reduce\n",
        "\n",
        "bestMovie = reduce(lambda movie1, movie2 : movie1 if movie1[\"Rating\"] > movie2[\"Rating\"] else movie2, movies)\n",
        "\n",
        "print(\"bestMovie: \", bestMovie)"
      ],
      "metadata": {
        "colab": {
          "base_uri": "https://localhost:8080/"
        },
        "id": "S-Re3oVVLHbz",
        "outputId": "edabed99-2862-40c0-b717-447f2d02e68b"
      },
      "execution_count": null,
      "outputs": [
        {
          "output_type": "stream",
          "name": "stdout",
          "text": [
            "bestMovie:  {'Nombre': 'The Shawshank Redemption', 'Géneros': ['Drama', 'Crimen'], 'Rating': 9.3}\n"
          ]
        }
      ]
    },
    {
      "cell_type": "markdown",
      "source": [
        "#**🛒 Problema 3: Simulador de carrito de compras (POO, Herencia, Polimorfismo, ABC, Logging)**\n"
      ],
      "metadata": {
        "id": "W9SKhtyVLhg-"
      }
    },
    {
      "cell_type": "markdown",
      "source": [
        "**Descripción:**\n",
        "\n",
        "Simula un sistema de carrito de compras que incluya diferentes tipos de productos (comida, tecnología, ropa).\n",
        "\n",
        "1. Crea una clase base Producto (abstracta) con los métodos: calcular_descuento, detalles.\n",
        "\n",
        "2. Hereda las clases ProductoComida, ProductoTecnologia, ProductoRopa y redefine los métodos de forma polimórfica.\n",
        "\n",
        "3. Implementa un CarritoCompras que pueda agregar productos, calcular total y aplicar descuentos."
      ],
      "metadata": {
        "id": "VQoXJLkQLmBs"
      }
    },
    {
      "cell_type": "markdown",
      "source": [
        "##**1. Crea una clase base Producto (abstracta) con los métodos: calcular_descuento, detalles.**"
      ],
      "metadata": {
        "id": "olfocOMgg1Ju"
      }
    },
    {
      "cell_type": "code",
      "source": [
        "from abc import ABCMeta, abstractmethod\n",
        "\n",
        "class Product(metaclass = ABCMeta):\n",
        "\n",
        "  def __init__(self, name : str, brand : str, price : float, discount : float = 0.0):\n",
        "    self.name = name\n",
        "    self.brand = brand\n",
        "    self.price = price\n",
        "    self.discount = discount\n",
        "    self.quantity = quantity\n",
        "\n",
        "  @abstractmethod\n",
        "  def calculateDiscount(self) -> float:\n",
        "    pass\n",
        "\n",
        "  @abstractmethod\n",
        "  def details(self) -> str:\n",
        "    pass"
      ],
      "metadata": {
        "id": "Jmzf0Thug269"
      },
      "execution_count": null,
      "outputs": []
    },
    {
      "cell_type": "markdown",
      "source": [
        "##**2. Hereda las clases ProductoComida, ProductoTecnologia, ProductoRopa y redefine los métodos de forma polimórfica.**"
      ],
      "metadata": {
        "id": "Tdkpu8wjkkvU"
      }
    },
    {
      "cell_type": "code",
      "source": [
        "class ProductFood(Product):\n",
        "\n",
        "  def __init__(self, name : str, brand : str, price : float, discount : float, calories : int):\n",
        "    super().__init__(name, brand, price, discount)\n",
        "    self.calories = calories\n",
        "\n",
        "  def calculateDiscount(self) -> float:\n",
        "    return round(self.price * (1 - self.discount), 2)\n",
        "\n",
        "  def details(self) -> str:\n",
        "    if self.discount > 0.0:\n",
        "      return f\"Name : {self.name}\\nBrand : {self.brand}\\nCalories : {self.calories}Kcal\\nNon-discounted price : ${self.price}\\nDiscount : {round(self.discount*100)} %\\nDiscounted price: ${self.calculateDiscount()}\"\n",
        "    else:\n",
        "      return f\"Name : {self.name}\\nBrand : {self.brand}\\nCalories : {self.calories}Kcal\\nPrice : ${self.price}\""
      ],
      "metadata": {
        "id": "4dQ_kTwojXul"
      },
      "execution_count": null,
      "outputs": []
    },
    {
      "cell_type": "code",
      "source": [
        "laysBbq = ProductFood(\"Lays Bbq\", \"Frito Lay\", 10000, 0.0, 150)\n",
        "\n",
        "print(laysBbq.details())"
      ],
      "metadata": {
        "colab": {
          "base_uri": "https://localhost:8080/"
        },
        "id": "X4u-gps7o619",
        "outputId": "2e1db2bf-b93c-43e9-d3d7-f5ec14cd509f"
      },
      "execution_count": null,
      "outputs": [
        {
          "output_type": "stream",
          "name": "stdout",
          "text": [
            "Name : Lays Bbq\n",
            "Brand : Frito Lay\n",
            "Calories : 150Kcal\n",
            "Price : $10000\n"
          ]
        }
      ]
    },
    {
      "cell_type": "code",
      "source": [
        "class ProductTechnology(Product):\n",
        "\n",
        "  def __init__(self, name : str, brand : str, model : str, availability: bool, price : float, discount : float):\n",
        "    super().__init__(name, brand, price, discount)\n",
        "    self.model = model\n",
        "    self.availability = availability\n",
        "\n",
        "  def calculateDiscount(self) -> float:\n",
        "    return round(self.price * (1 - self.discount), 2)\n",
        "\n",
        "  def details(self) -> str:\n",
        "    if self.discount > 0.0:\n",
        "      return f\"Name : {self.name}\\nBrand : {self.brand}\\nModel : {self.model}\\nAvailability : {self.availability}\\nNon-discounted price : ${self.price}\\nDiscount : {round(self.discount*100)} %\\nDiscounted price: ${self.calculateDiscount()}\"\n",
        "    else:\n",
        "      return f\"Name : {self.name}\\nBrand : {self.brand}\\nModel : {self.model}\\nAvailability : {self.availability}\\nPrice : ${self.price}\""
      ],
      "metadata": {
        "id": "MEbmY5IfzhFa"
      },
      "execution_count": null,
      "outputs": []
    },
    {
      "cell_type": "code",
      "source": [
        "IPhone16e = ProductTechnology(\"IPhone\", \"Apple\", \"IPhone16e\", True, 3599900, 0.17)\n",
        "\n",
        "print(IPhone16e.details())"
      ],
      "metadata": {
        "colab": {
          "base_uri": "https://localhost:8080/"
        },
        "id": "dhq49_k04YjS",
        "outputId": "2ebf14d7-eb92-4d57-a727-e402e3304717"
      },
      "execution_count": null,
      "outputs": [
        {
          "output_type": "stream",
          "name": "stdout",
          "text": [
            "Name : IPhone\n",
            "Brand : Apple\n",
            "Model : IPhone16e\n",
            "Availability : True\n",
            "Non-discounted price : $3599900\n",
            "Discount : 17 %\n",
            "Discounted price: $2987917.0\n"
          ]
        }
      ]
    },
    {
      "cell_type": "code",
      "source": [
        "class ProductClothes(Product):\n",
        "\n",
        "  def __init__(self, name : str, brand : str, category : str, availability: bool, price : float, discount : float):\n",
        "    super().__init__(name, brand, price, discount)\n",
        "    self.category = category\n",
        "    self.availability = availability\n",
        "\n",
        "  def calculateDiscount(self) -> float:\n",
        "    return round(self.price * (1 - self.discount), 2)\n",
        "\n",
        "  def details(self) -> str:\n",
        "    if self.discount > 0.0:\n",
        "      return f\"Name : {self.name}\\nBrand : {self.brand}\\nCategory : {self.category}\\nAvailability : {self.availability}\\nNon-discounted price : ${self.price}\\nDiscount : {round(self.discount*100)} %\\nDiscounted price: ${self.calculateDiscount()}\"\n",
        "    else:\n",
        "      return f\"Name : {self.name}\\nBrand : {self.brand}\\nCategory : {self.category}\\nAvailability : {self.availability}\\nPrice : ${self.price}\""
      ],
      "metadata": {
        "id": "61DU6dAW7r6E"
      },
      "execution_count": null,
      "outputs": []
    },
    {
      "cell_type": "code",
      "source": [
        "camisetaMangaCortaH = ProductClothes(\"Camiseta manga corta para hombre\", \"Americanino\", \"Camiseta\", False, 139900, 0.0)\n",
        "\n",
        "print(camisetaMangaCortaH.details())"
      ],
      "metadata": {
        "colab": {
          "base_uri": "https://localhost:8080/"
        },
        "id": "9l4xe76S8NjT",
        "outputId": "4c81ee5c-8fb3-4d15-ad66-7250d02f097e"
      },
      "execution_count": null,
      "outputs": [
        {
          "output_type": "stream",
          "name": "stdout",
          "text": [
            "Name : Camiseta manga corta para hombre\n",
            "Brand : Americanino\n",
            "Category : Camiseta\n",
            "Availability : False\n",
            "Price : $139900\n"
          ]
        }
      ]
    },
    {
      "cell_type": "markdown",
      "source": [
        "##**3. Implementa un CarritoCompras que pueda agregar productos, calcular total y aplicar descuentos**"
      ],
      "metadata": {
        "id": "pA09RBxu-AyB"
      }
    },
    {
      "cell_type": "code",
      "source": [
        "class CartShopping:\n",
        "\n",
        "  def __init__(self):\n",
        "    self.products = []\n",
        "\n",
        "  def addProduct(self, product: Product, quantity: int = 1):\n",
        "    prod = product.__dict__\n",
        "    prod[\"quantity\"] = quantity\n",
        "    self.products.append(prod)\n",
        "\n",
        "  def calculateTotal(self) -> float:\n",
        "    total = 0.0\n",
        "    for product in self.products:\n",
        "      discountPrice = product['price'] * (1 - product['discount'])\n",
        "      total += discountPrice * product['quantity']\n",
        "    return round(total, 2)\n",
        "\n",
        "  def showProducts(self):\n",
        "    for p in self.products:\n",
        "      print(f\"{p['name']} x{p['quantity']} - ${p['price']} c/u - Discount: {round(p['discount'] * 100)}%\")"
      ],
      "metadata": {
        "id": "a40FD_Xs-ENj"
      },
      "execution_count": null,
      "outputs": []
    },
    {
      "cell_type": "code",
      "source": [
        "cart = CartShopping()\n",
        "\n",
        "cart.addProduct(laysBbq, 2)\n",
        "cart.addProduct(IPhone16e)\n",
        "cart.addProduct(camisetaMangaCortaH, 3)\n",
        "\n",
        "cart.showProducts()\n",
        "\n",
        "print(\"Total: $\", cart.calculateTotal())"
      ],
      "metadata": {
        "colab": {
          "base_uri": "https://localhost:8080/"
        },
        "id": "0vOTPzCYDyU8",
        "outputId": "aa0fcb9a-6950-4f50-d778-3ea6a498665c"
      },
      "execution_count": null,
      "outputs": [
        {
          "output_type": "stream",
          "name": "stdout",
          "text": [
            "Lays Bbq x2 - $10000 c/u - Discount: 0%\n",
            "IPhone x1 - $3599900 c/u - Discount: 17%\n",
            "Camiseta manga corta para hombre x3 - $139900 c/u - Discount: 0%\n",
            "Total: $ 3427617.0\n"
          ]
        }
      ]
    },
    {
      "cell_type": "markdown",
      "source": [
        "# **📊 Problema 4: Estadísticas de una red social (Unpacking, Assert, Docstrings, POO, Ficheros)**\n"
      ],
      "metadata": {
        "id": "0yDwsUsaQnKH"
      }
    },
    {
      "cell_type": "markdown",
      "source": [
        "**Descripción:**\n",
        "\n",
        "Estás analizando estadísticas de interacción de usuarios en una red social. Cada usuario es representado como una clase Usuario con atributos como nombre, seguidores, publicaciones, me_gusta_totales.\n",
        "\n",
        "1. Usa unpacking para cargar datos de una lista de tuplas.\n",
        "\n",
        "2. Define métodos con docstrings siguiendo el estilo Google para calcular:\n",
        "\n",
        "  * Promedio de me gusta por publicación.\n",
        "\n",
        "  * Tasa de interacción (me gusta/seguidores).\n",
        "\n",
        "3. Usa assert para verificar que ningún valor (seguidores, publicaciones) sea cero.\n",
        "\n",
        "4. Guarda un resumen de estadísticas por usuario en un archivo .txt."
      ],
      "metadata": {
        "id": "z6HYhcWzQqY8"
      }
    },
    {
      "cell_type": "markdown",
      "source": [
        "##**1. Usa unpacking para cargar datos de una lista de tuplas.**"
      ],
      "metadata": {
        "id": "j9T52gHY4oeC"
      }
    },
    {
      "cell_type": "code",
      "source": [
        "class User:\n",
        "\n",
        "  def __init__(self, name : str, followers : int, posts : int, likes : int):\n",
        "    self.name = name\n",
        "    self.followers = followers\n",
        "    self.posts = posts\n",
        "    self.likes = likes\n",
        "\n",
        "  def showInformation(self):\n",
        "    return f\"{self.name}: {self.followers} followers, {self.posts} posts, {self.likes} likes\""
      ],
      "metadata": {
        "id": "67mbdL2dz1rH"
      },
      "execution_count": 7,
      "outputs": []
    },
    {
      "cell_type": "code",
      "source": [
        "userData = [\n",
        "    (\"@techlover\", 12000, 340, 87000),\n",
        "    (\"@viajes_ana\", 83000, 1200, 540000),\n",
        "    (\"@fitnessmax\", 45000, 875, 390000),\n",
        "    (\"@arte_moderno\", 23000, 420, 112000),\n",
        "    (\"@cocinaexpress\", 67000, 950, 460000),\n",
        "    (\"@fotogenico\", 39000, 500, 245000),\n",
        "    (\"@gamerlife\", 99000, 1320, 880000),\n",
        "    (\"@libros_de_noche\", 28000, 310, 75000),\n",
        "    (\"@moda_y_estilo\", 105000, 2000, 980000),\n",
        "    (\"@naturaleza_pura\", 49000, 720, 260000),\n",
        "    (\"@codewithme\", 18000, 210, 58000),\n",
        "    (\"@musicaindie\", 37000, 615, 145000),\n",
        "    (\"@decohogar\", 52000, 880, 330000),\n",
        "    (\"@cinemaniacos\", 66000, 1045, 510000),\n",
        "    (\"@noticias_rapidas\", 150000, 3210, 1200000)\n",
        "]"
      ],
      "metadata": {
        "id": "CyrDQEV_5rld"
      },
      "execution_count": 8,
      "outputs": []
    },
    {
      "cell_type": "code",
      "source": [
        "users = [User(*data) for data in userData]\n",
        "\n",
        "print(users[0].showInformation())"
      ],
      "metadata": {
        "colab": {
          "base_uri": "https://localhost:8080/"
        },
        "id": "Htxp7G4i6H14",
        "outputId": "f1a9345b-a2ae-49fa-897a-8bacb1b3c843"
      },
      "execution_count": 9,
      "outputs": [
        {
          "output_type": "stream",
          "name": "stdout",
          "text": [
            "@techlover: 12000 followers, 340 posts, 87000 likes\n"
          ]
        }
      ]
    },
    {
      "cell_type": "markdown",
      "source": [
        "##**2. Define métodos con docstrings siguiendo el estilo Google para calcular**"
      ],
      "metadata": {
        "id": "g5avz2oz6sCA"
      }
    },
    {
      "cell_type": "markdown",
      "source": [
        "### **Promedio de me gusta por publicación**\n",
        "\n"
      ],
      "metadata": {
        "id": "iH3eeY9q6v_t"
      }
    },
    {
      "cell_type": "code",
      "source": [
        "def calculateAverageLikesPerPost(user : User) -> float:\n",
        "  \"\"\"Calculates the average number of likes per user's post.\n",
        "\n",
        "  Args:\n",
        "    user (User): A User object containing information about the total number of likes and the number of posts made.\n",
        "\n",
        "  Returns:\n",
        "    float: Average number of likes per post. If the user has no posts, 0.0 is returned.\n",
        "\n",
        "  Raises:\n",
        "    AttributeError: If the user object does not have the expected attributes.\n",
        "    ZeroDivisionError: If a division by zero occurs (even if it is handled internally).\n",
        "  \"\"\"\n",
        "  try:\n",
        "    if user.posts == 0:\n",
        "        return 0.0\n",
        "    return round(user.likes/user.posts, 2)\n",
        "  except AttributeError as ex:\n",
        "    print(\"Error: \", ex)"
      ],
      "metadata": {
        "id": "DuRRAHgu64Xn"
      },
      "execution_count": 10,
      "outputs": []
    },
    {
      "cell_type": "markdown",
      "source": [
        "### **Tasa de interacción (me gusta/seguidores)**"
      ],
      "metadata": {
        "id": "pncXzsDz62x2"
      }
    },
    {
      "cell_type": "code",
      "source": [
        "def interactionRate(user : User) -> float:\n",
        "  \"\"\"Calculates a user's engagement rate (likes / followers).\n",
        "\n",
        "  Args:\n",
        "      user (User): A User object containing information about the total number of likes and followers.\n",
        "\n",
        "  Returns:\n",
        "      float: Engagement rate. If the user has no followers, 0.0 is returned.\n",
        "\n",
        "  Raises:\n",
        "      AttributeError: If the user object does not have the expected attributes.\n",
        "      ZeroDivisionError: If a division by zero occurs (even if handled internally).\n",
        "  \"\"\"\n",
        "  try:\n",
        "    if user.followers == 0:\n",
        "      return 0.0\n",
        "    return round(user.likes / user.followers, 2)\n",
        "  except AttributeError as ex:\n",
        "    print(\"Error: \", ex)"
      ],
      "metadata": {
        "id": "fx6lgod_DjRC"
      },
      "execution_count": 11,
      "outputs": []
    },
    {
      "cell_type": "markdown",
      "source": [
        "## **4. Guarda un resumen de estadísticas por usuario en un archivo .txt**"
      ],
      "metadata": {
        "id": "WLTraoyVE-Do"
      }
    },
    {
      "cell_type": "code",
      "source": [
        "with open(\"statistics_per_user.txt\", \"w\") as document:\n",
        "  document.write(\"=========================\\n\")\n",
        "  document.write(\"User Statistics\\n\")\n",
        "  document.write(\"=========================\\n\")\n",
        "\n",
        "  for user in users:\n",
        "    if user.followers == 0 or user.posts == 0:\n",
        "      continue\n",
        "    document.write(f\"User: {user.name}\\n\")\n",
        "    document.write(f\"Average likes per post: {calculateAverageLikesPerPost(user)}\\n\")\n",
        "    document.write(f\"Interaction rate: {interactionRate(user)}\\n\")\n",
        "    document.write(\"=========================\\n\")"
      ],
      "metadata": {
        "id": "o7c76iJsE9v_"
      },
      "execution_count": 14,
      "outputs": []
    },
    {
      "cell_type": "markdown",
      "source": [
        "# **🧠 Problema 5: Clasificador de correos (Clasificación de texto básica + Sets, Dict comprehension, Excepciones)**\n"
      ],
      "metadata": {
        "id": "YM0e6tl9HKAP"
      }
    },
    {
      "cell_type": "markdown",
      "source": [
        "**Descripción:**\n",
        "\n",
        "Tienes una lista de correos electrónicos. Quieres clasificar cada correo en una categoría: spam, promoción, personal, según palabras clave.\n",
        "\n",
        "1. Usa sets de palabras clave por categoría.\n",
        "\n",
        "2. Procesa cada correo y clasifícalo según la mayor coincidencia de palabras.\n",
        "\n",
        "3. Usa dictionary comprehension para contar cuántos correos hay por categoría.\n",
        "\n",
        "4. Maneja excepciones en caso de que algún correo esté vacío o mal formado.\n",
        "\n",
        "5. Muestra un resumen de clasificación y guarda los correos en archivos separados por categoría."
      ],
      "metadata": {
        "id": "I0UU23iCHMVW"
      }
    },
    {
      "cell_type": "markdown",
      "source": [
        "##**1. Usa sets de palabras clave por categoría**"
      ],
      "metadata": {
        "id": "Mcrnw9eJOOSM"
      }
    },
    {
      "cell_type": "code",
      "source": [
        "spam = {\"dinero\", \"oferta\", \"premio\", \"clic\", \"gratuito\", \"gana\", \"bono\"}\n",
        "\n",
        "promotion = {\"descuento\", \"producto\", \"electrónica\", \"banco\", \"promoción\", \"regalo\"}\n",
        "\n",
        "personal = {\"hola\", \"cine\", \"viaje\", \"escribo\", \"foto\", \"mamá\", \"mañana\", \"clase\"}"
      ],
      "metadata": {
        "id": "HssJ9Be0OSVJ"
      },
      "execution_count": 16,
      "outputs": []
    },
    {
      "cell_type": "markdown",
      "source": [
        "##**2. Procesa cada correo y clasifícalo según la mayor coincidencia de palabras**"
      ],
      "metadata": {
        "id": "euIXbLu8O2Y0"
      }
    },
    {
      "cell_type": "code",
      "source": [
        "emailSortList = []\n",
        "\n",
        "try:\n",
        "\n",
        "  with open(\"correos.txt\", \"r\") as document:\n",
        "    for email in document:\n",
        "      emailWords = email.lower().strip().split()\n",
        "      spamIntersection = len(spam.intersection(emailWords))\n",
        "      promotionIntersection = len(promotion.intersection(emailWords))\n",
        "      personalIntersection = len(personal.intersection(emailWords))\n",
        "\n",
        "      if spamIntersection > promotionIntersection and spamIntersection > personalIntersection:\n",
        "        emailSortList.append({\"classification\": \"spam\", \"Email\" : email.strip(\"\\n\")})\n",
        "      elif promotionIntersection > spamIntersection and promotionIntersection > personalIntersection:\n",
        "        emailSortList.append({\"classification\": \"promotion\", \"Email\" : email.strip(\"\\n\")})\n",
        "      else:\n",
        "        emailSortList.append({\"classification\": \"personal\", \"Email\" : email.strip(\"\\n\")})\n",
        "except Exception as ex:\n",
        "  print(\"Error: \", ex)"
      ],
      "metadata": {
        "id": "zwkTEBKlO31f"
      },
      "execution_count": 30,
      "outputs": []
    },
    {
      "cell_type": "code",
      "source": [
        "import json\n",
        "\n",
        "print(json.dumps(emailSortList, indent = 2))"
      ],
      "metadata": {
        "colab": {
          "base_uri": "https://localhost:8080/"
        },
        "collapsed": true,
        "id": "pyIO758hTCKm",
        "outputId": "2cc4150f-d43f-47ad-ddf6-108d427c30d7"
      },
      "execution_count": 31,
      "outputs": [
        {
          "output_type": "stream",
          "name": "stdout",
          "text": [
            "[\n",
            "  {\n",
            "    \"classification\": \"spam\",\n",
            "    \"Email\": \"\\u00a1Gana dinero f\\u00e1cil desde casa con esta oferta exclusiva!\"\n",
            "  },\n",
            "  {\n",
            "    \"classification\": \"promotion\",\n",
            "    \"Email\": \"Descuento del 50% en productos de electr\\u00f3nica esta semana\"\n",
            "  },\n",
            "  {\n",
            "    \"classification\": \"personal\",\n",
            "    \"Email\": \"Hola Juan, te escribo para contarte c\\u00f3mo me fue en el viaje\"\n",
            "  },\n",
            "  {\n",
            "    \"classification\": \"spam\",\n",
            "    \"Email\": \"\\u00a1Felicitaciones! Has sido seleccionado para un premio\"\n",
            "  },\n",
            "  {\n",
            "    \"classification\": \"personal\",\n",
            "    \"Email\": \"\\u00bfVamos al cine este fin de semana?\"\n",
            "  },\n",
            "  {\n",
            "    \"classification\": \"promotion\",\n",
            "    \"Email\": \"Tu banco te informa sobre un nuevo producto financiero\"\n",
            "  },\n",
            "  {\n",
            "    \"classification\": \"spam\",\n",
            "    \"Email\": \"Haz clic aqu\\u00ed para obtener un bono gratuito ahora\"\n",
            "  },\n",
            "  {\n",
            "    \"classification\": \"personal\",\n",
            "    \"Email\": \"Recordatorio: Tienes una reuni\\u00f3n a las 3pm con el equipo de trabajo\"\n",
            "  },\n",
            "  {\n",
            "    \"classification\": \"promotion\",\n",
            "    \"Email\": \"Aprovecha nuestra promoci\\u00f3n de verano en viajes internacionales\"\n",
            "  },\n",
            "  {\n",
            "    \"classification\": \"personal\",\n",
            "    \"Email\": \"Tu amigo Luis ha compartido una foto contigo\"\n",
            "  },\n",
            "  {\n",
            "    \"classification\": \"personal\",\n",
            "    \"Email\": \"Alerta: Actividad sospechosa detectada en tu cuenta bancaria\"\n",
            "  },\n",
            "  {\n",
            "    \"classification\": \"spam\",\n",
            "    \"Email\": \"Recibe dinero en minutos sin moverte de tu casa\"\n",
            "  },\n",
            "  {\n",
            "    \"classification\": \"personal\",\n",
            "    \"Email\": \"Vacaciones confirmadas para julio, \\u00a1prep\\u00e1rate!\"\n",
            "  },\n",
            "  {\n",
            "    \"classification\": \"spam\",\n",
            "    \"Email\": \"Oferta especial solo por hoy en tecnolog\\u00eda y hogar\"\n",
            "  },\n",
            "  {\n",
            "    \"classification\": \"personal\",\n",
            "    \"Email\": \"Gracias por tu correo, nos vemos ma\\u00f1ana\"\n",
            "  },\n",
            "  {\n",
            "    \"classification\": \"personal\",\n",
            "    \"Email\": \"Tu pedido ha sido enviado y llegar\\u00e1 en 3 d\\u00edas\"\n",
            "  },\n",
            "  {\n",
            "    \"classification\": \"spam\",\n",
            "    \"Email\": \"Haz clic aqu\\u00ed para conocer los resultados del sorteo\"\n",
            "  },\n",
            "  {\n",
            "    \"classification\": \"spam\",\n",
            "    \"Email\": \"Nuevo bono disponible por completar la encuesta\"\n",
            "  },\n",
            "  {\n",
            "    \"classification\": \"promotion\",\n",
            "    \"Email\": \"Felicitaciones, ganaste una tarjeta regalo\"\n",
            "  },\n",
            "  {\n",
            "    \"classification\": \"personal\",\n",
            "    \"Email\": \"Hola mam\\u00e1, te llamo m\\u00e1s tarde, estoy en clase\"\n",
            "  }\n",
            "]\n"
          ]
        }
      ]
    },
    {
      "cell_type": "markdown",
      "source": [
        "##**3. Usa dictionary comprehension para contar cuántos correos hay por categoría**"
      ],
      "metadata": {
        "id": "9OI5QH_BUseV"
      }
    },
    {
      "cell_type": "code",
      "source": [
        "from functools import reduce\n",
        "\n",
        "numberSpamEmails = reduce(lambda acc, email: acc + (1 if email[\"classification\"] == \"spam\" else 0), emailSortList, 0)\n",
        "\n",
        "numberPromotionEmails = reduce(lambda acc, email: acc + (1 if email[\"classification\"] == \"promotion\" else 0), emailSortList, 0)\n",
        "\n",
        "numberPersonalEmails = reduce(lambda acc, email: acc + (1 if email[\"classification\"] == \"personal\" else 0), emailSortList, 0)\n",
        "\n",
        "print(f\"Number of spam emails: {numberSpamEmails}\")\n",
        "print(f\"Number of promotion emails: {numberPromotionEmails}\")\n",
        "print(f\"Number of personal emails: {numberPersonalEmails}\")"
      ],
      "metadata": {
        "colab": {
          "base_uri": "https://localhost:8080/"
        },
        "id": "10MR8ns3UwYQ",
        "outputId": "dd20d2d2-74e8-406e-c5fd-a3c0c78232a6"
      },
      "execution_count": 33,
      "outputs": [
        {
          "output_type": "stream",
          "name": "stdout",
          "text": [
            "Number of spam emails: 7\n",
            "Number of promotion emails: 4\n",
            "Number of personal emails: 9\n"
          ]
        }
      ]
    },
    {
      "cell_type": "markdown",
      "source": [
        "## **5. Muestra un resumen de clasificación y guarda los correos en archivos separados por categoría**"
      ],
      "metadata": {
        "id": "XMlLEvFsXN9a"
      }
    },
    {
      "cell_type": "code",
      "source": [
        "try:\n",
        "\n",
        "  with open(\"spam_emails.txt\", \"w\") as document:\n",
        "    document.write(\"=========================\\n\")\n",
        "    document.write(\"Spam email classification summary\\n\")\n",
        "    document.write(\"=========================\\n\")\n",
        "\n",
        "    document.write(\"=========================\\n\")\n",
        "    document.write(f\"Number of spam emails: {numberSpamEmails}\\n\")\n",
        "    document.write(\"=========================\\n\")\n",
        "\n",
        "    document.write(\"=========================\\n\")\n",
        "    document.write(\"Emails:\\n\")\n",
        "    document.write(\"=========================\\n\")\n",
        "\n",
        "    for email in emailSortList:\n",
        "      if email[\"classification\"] == \"spam\":\n",
        "        document.write(email[\"Email\"] + \"\\n\")\n",
        "\n",
        "except Exception as ex:\n",
        "  print(\"Error: \", ex)"
      ],
      "metadata": {
        "id": "voovjnYEXNXL"
      },
      "execution_count": 34,
      "outputs": []
    },
    {
      "cell_type": "code",
      "source": [
        "try:\n",
        "\n",
        "  with open(\"promotion_emails.txt\", \"w\") as document:\n",
        "    document.write(\"=========================\\n\")\n",
        "    document.write(\"Promotion email classification summary\\n\")\n",
        "    document.write(\"=========================\\n\")\n",
        "\n",
        "    document.write(\"=========================\\n\")\n",
        "    document.write(f\"Number of promotion emails: {numberPromotionEmails}\\n\")\n",
        "    document.write(\"=========================\\n\")\n",
        "\n",
        "    document.write(\"=========================\\n\")\n",
        "    document.write(\"Emails:\\n\")\n",
        "    document.write(\"=========================\\n\")\n",
        "\n",
        "    for email in emailSortList:\n",
        "      if email[\"classification\"] == \"promotion\":\n",
        "        document.write(email[\"Email\"] + \"\\n\")\n",
        "\n",
        "except Exception as ex:\n",
        "  print(\"Error: \", ex)"
      ],
      "metadata": {
        "id": "ZeoF9atFX9-P"
      },
      "execution_count": 35,
      "outputs": []
    },
    {
      "cell_type": "code",
      "source": [
        "try:\n",
        "\n",
        "  with open(\"personal_emails.txt\", \"w\") as document:\n",
        "    document.write(\"=========================\\n\")\n",
        "    document.write(\"Personal email classification summary\\n\")\n",
        "    document.write(\"=========================\\n\")\n",
        "\n",
        "    document.write(\"=========================\\n\")\n",
        "    document.write(f\"Number of personal emails: {numberPersonalEmails}\\n\")\n",
        "    document.write(\"=========================\\n\")\n",
        "\n",
        "    document.write(\"=========================\\n\")\n",
        "    document.write(\"Emails:\\n\")\n",
        "    document.write(\"=========================\\n\")\n",
        "\n",
        "    for email in emailSortList:\n",
        "      if email[\"classification\"] == \"personal\":\n",
        "        document.write(email[\"Email\"] + \"\\n\")\n",
        "\n",
        "except Exception as ex:\n",
        "  print(\"Error: \", ex)"
      ],
      "metadata": {
        "id": "DOOTUBPcYWNh"
      },
      "execution_count": 36,
      "outputs": []
    }
  ]
}